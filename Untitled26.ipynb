{
  "nbformat": 4,
  "nbformat_minor": 0,
  "metadata": {
    "colab": {
      "provenance": []
    },
    "kernelspec": {
      "name": "python3",
      "display_name": "Python 3"
    },
    "language_info": {
      "name": "python"
    }
  },
  "cells": [
    {
      "cell_type": "code",
      "execution_count": 1,
      "metadata": {
        "id": "2nogcNl3N_RG"
      },
      "outputs": [],
      "source": [
        "import numpy as np\n",
        "import pandas as pd"
      ]
    },
    {
      "cell_type": "code",
      "source": [
        "data=pd.read_csv(\"/content/DataEngineeringQ2.csv\")"
      ],
      "metadata": {
        "id": "koNhH7c_PQFv"
      },
      "execution_count": 2,
      "outputs": []
    },
    {
      "cell_type": "code",
      "source": [
        "data.head()"
      ],
      "metadata": {
        "colab": {
          "base_uri": "https://localhost:8080/",
          "height": 255
        },
        "id": "8omG8Xz_PamD",
        "outputId": "45c613f4-b24d-4054-e314-4a048c498f69"
      },
      "execution_count": 4,
      "outputs": [
        {
          "output_type": "execute_result",
          "data": {
            "text/plain": [
              "        _id appointmentId patientDetails___id patientDetails__phrId  \\\n",
              "0  T6hf3rb5     40d2-9c9f           T6hb630b3                   NaN   \n",
              "1       NaN           NaN                 NaN                   NaN   \n",
              "2  T65g3rb5      40dbtc9f           T6h33b300                   NaN   \n",
              "3       NaN           NaN                 NaN                   NaN   \n",
              "4  T7g6Srb5      g3Wt5c9f            TjhB4373          63b5hvy614d5   \n",
              "\n",
              "  patientDetails__firstName patientDetails__lastName  patientDetails__emailId  \\\n",
              "0                       Css                      NaN                      NaN   \n",
              "1                       NaN                      NaN                      NaN   \n",
              "2                    Lokesh                      NaN                      NaN   \n",
              "3                       NaN                      NaN                      NaN   \n",
              "4                     Shila                      Das                      NaN   \n",
              "\n",
              "  patientDetails__gender  patientDetails__alternateContact  \\\n",
              "0                    NaN                               NaN   \n",
              "1                    NaN                               NaN   \n",
              "2                      M                               NaN   \n",
              "3                    NaN                               NaN   \n",
              "4                    NaN                               NaN   \n",
              "\n",
              "  patientDetails__birthDate  ... consultationData__languageCode  \\\n",
              "0                       NaN  ...                             en   \n",
              "1                       NaN  ...                            NaN   \n",
              "2  1996-05-16T18:30:00.000Z  ...                             en   \n",
              "3                       NaN  ...                            NaN   \n",
              "4                       NaN  ...                             en   \n",
              "\n",
              "  consultationData__medicines__medicineId  \\\n",
              "0                                619404.0   \n",
              "1                                619804.0   \n",
              "2                                619404.0   \n",
              "3                                619804.0   \n",
              "4                                619404.0   \n",
              "\n",
              "  consultationData__medicines__medicineName  \\\n",
              "0                                         A   \n",
              "1                                         B   \n",
              "2                                         A   \n",
              "3                                         C   \n",
              "4                                         B   \n",
              "\n",
              "   consultationData__medicines__medicineNameStrengthType  \\\n",
              "0                                                NaN       \n",
              "1                                                NaN       \n",
              "2                                                NaN       \n",
              "3                                                NaN       \n",
              "4                                                NaN       \n",
              "\n",
              "   consultationData__medicines__frequency  \\\n",
              "0                                   1-0-1   \n",
              "1                                   1-0-1   \n",
              "2                                   1-0-1   \n",
              "3                                   1-0-1   \n",
              "4                                   1-0-1   \n",
              "\n",
              "  consultationData__medicines__duration  \\\n",
              "0                                  90.0   \n",
              "1                                  90.0   \n",
              "2                                  90.0   \n",
              "3                                  30.0   \n",
              "4                                  10.0   \n",
              "\n",
              "   consultationData__medicines__durationIn  \\\n",
              "0                                     DAYS   \n",
              "1                                     DAYS   \n",
              "2                                     DAYS   \n",
              "3                                     DAYS   \n",
              "4                                     DAYS   \n",
              "\n",
              "  consultationData__medicines__instruction  \\\n",
              "0                               AFTER MEAL   \n",
              "1                               AFTER MEAL   \n",
              "2                               AFTER MEAL   \n",
              "3                               AFTER MEAL   \n",
              "4                               AFTER MEAL   \n",
              "\n",
              "  consultationData__medicines__isActive  consultationData__sharePrescription  \n",
              "0                                  True                                False  \n",
              "1                                 False                                  NaN  \n",
              "2                                  True                                False  \n",
              "3                                 False                                  NaN  \n",
              "4                                  True                                False  \n",
              "\n",
              "[5 rows x 33 columns]"
            ],
            "text/html": [
              "\n",
              "  <div id=\"df-9f1efdf4-2093-4e7b-9d18-92dcbcb6da04\" class=\"colab-df-container\">\n",
              "    <div>\n",
              "<style scoped>\n",
              "    .dataframe tbody tr th:only-of-type {\n",
              "        vertical-align: middle;\n",
              "    }\n",
              "\n",
              "    .dataframe tbody tr th {\n",
              "        vertical-align: top;\n",
              "    }\n",
              "\n",
              "    .dataframe thead th {\n",
              "        text-align: right;\n",
              "    }\n",
              "</style>\n",
              "<table border=\"1\" class=\"dataframe\">\n",
              "  <thead>\n",
              "    <tr style=\"text-align: right;\">\n",
              "      <th></th>\n",
              "      <th>_id</th>\n",
              "      <th>appointmentId</th>\n",
              "      <th>patientDetails___id</th>\n",
              "      <th>patientDetails__phrId</th>\n",
              "      <th>patientDetails__firstName</th>\n",
              "      <th>patientDetails__lastName</th>\n",
              "      <th>patientDetails__emailId</th>\n",
              "      <th>patientDetails__gender</th>\n",
              "      <th>patientDetails__alternateContact</th>\n",
              "      <th>patientDetails__birthDate</th>\n",
              "      <th>...</th>\n",
              "      <th>consultationData__languageCode</th>\n",
              "      <th>consultationData__medicines__medicineId</th>\n",
              "      <th>consultationData__medicines__medicineName</th>\n",
              "      <th>consultationData__medicines__medicineNameStrengthType</th>\n",
              "      <th>consultationData__medicines__frequency</th>\n",
              "      <th>consultationData__medicines__duration</th>\n",
              "      <th>consultationData__medicines__durationIn</th>\n",
              "      <th>consultationData__medicines__instruction</th>\n",
              "      <th>consultationData__medicines__isActive</th>\n",
              "      <th>consultationData__sharePrescription</th>\n",
              "    </tr>\n",
              "  </thead>\n",
              "  <tbody>\n",
              "    <tr>\n",
              "      <th>0</th>\n",
              "      <td>T6hf3rb5</td>\n",
              "      <td>40d2-9c9f</td>\n",
              "      <td>T6hb630b3</td>\n",
              "      <td>NaN</td>\n",
              "      <td>Css</td>\n",
              "      <td>NaN</td>\n",
              "      <td>NaN</td>\n",
              "      <td>NaN</td>\n",
              "      <td>NaN</td>\n",
              "      <td>NaN</td>\n",
              "      <td>...</td>\n",
              "      <td>en</td>\n",
              "      <td>619404.0</td>\n",
              "      <td>A</td>\n",
              "      <td>NaN</td>\n",
              "      <td>1-0-1</td>\n",
              "      <td>90.0</td>\n",
              "      <td>DAYS</td>\n",
              "      <td>AFTER MEAL</td>\n",
              "      <td>True</td>\n",
              "      <td>False</td>\n",
              "    </tr>\n",
              "    <tr>\n",
              "      <th>1</th>\n",
              "      <td>NaN</td>\n",
              "      <td>NaN</td>\n",
              "      <td>NaN</td>\n",
              "      <td>NaN</td>\n",
              "      <td>NaN</td>\n",
              "      <td>NaN</td>\n",
              "      <td>NaN</td>\n",
              "      <td>NaN</td>\n",
              "      <td>NaN</td>\n",
              "      <td>NaN</td>\n",
              "      <td>...</td>\n",
              "      <td>NaN</td>\n",
              "      <td>619804.0</td>\n",
              "      <td>B</td>\n",
              "      <td>NaN</td>\n",
              "      <td>1-0-1</td>\n",
              "      <td>90.0</td>\n",
              "      <td>DAYS</td>\n",
              "      <td>AFTER MEAL</td>\n",
              "      <td>False</td>\n",
              "      <td>NaN</td>\n",
              "    </tr>\n",
              "    <tr>\n",
              "      <th>2</th>\n",
              "      <td>T65g3rb5</td>\n",
              "      <td>40dbtc9f</td>\n",
              "      <td>T6h33b300</td>\n",
              "      <td>NaN</td>\n",
              "      <td>Lokesh</td>\n",
              "      <td>NaN</td>\n",
              "      <td>NaN</td>\n",
              "      <td>M</td>\n",
              "      <td>NaN</td>\n",
              "      <td>1996-05-16T18:30:00.000Z</td>\n",
              "      <td>...</td>\n",
              "      <td>en</td>\n",
              "      <td>619404.0</td>\n",
              "      <td>A</td>\n",
              "      <td>NaN</td>\n",
              "      <td>1-0-1</td>\n",
              "      <td>90.0</td>\n",
              "      <td>DAYS</td>\n",
              "      <td>AFTER MEAL</td>\n",
              "      <td>True</td>\n",
              "      <td>False</td>\n",
              "    </tr>\n",
              "    <tr>\n",
              "      <th>3</th>\n",
              "      <td>NaN</td>\n",
              "      <td>NaN</td>\n",
              "      <td>NaN</td>\n",
              "      <td>NaN</td>\n",
              "      <td>NaN</td>\n",
              "      <td>NaN</td>\n",
              "      <td>NaN</td>\n",
              "      <td>NaN</td>\n",
              "      <td>NaN</td>\n",
              "      <td>NaN</td>\n",
              "      <td>...</td>\n",
              "      <td>NaN</td>\n",
              "      <td>619804.0</td>\n",
              "      <td>C</td>\n",
              "      <td>NaN</td>\n",
              "      <td>1-0-1</td>\n",
              "      <td>30.0</td>\n",
              "      <td>DAYS</td>\n",
              "      <td>AFTER MEAL</td>\n",
              "      <td>False</td>\n",
              "      <td>NaN</td>\n",
              "    </tr>\n",
              "    <tr>\n",
              "      <th>4</th>\n",
              "      <td>T7g6Srb5</td>\n",
              "      <td>g3Wt5c9f</td>\n",
              "      <td>TjhB4373</td>\n",
              "      <td>63b5hvy614d5</td>\n",
              "      <td>Shila</td>\n",
              "      <td>Das</td>\n",
              "      <td>NaN</td>\n",
              "      <td>NaN</td>\n",
              "      <td>NaN</td>\n",
              "      <td>NaN</td>\n",
              "      <td>...</td>\n",
              "      <td>en</td>\n",
              "      <td>619404.0</td>\n",
              "      <td>B</td>\n",
              "      <td>NaN</td>\n",
              "      <td>1-0-1</td>\n",
              "      <td>10.0</td>\n",
              "      <td>DAYS</td>\n",
              "      <td>AFTER MEAL</td>\n",
              "      <td>True</td>\n",
              "      <td>False</td>\n",
              "    </tr>\n",
              "  </tbody>\n",
              "</table>\n",
              "<p>5 rows × 33 columns</p>\n",
              "</div>\n",
              "    <div class=\"colab-df-buttons\">\n",
              "\n",
              "  <div class=\"colab-df-container\">\n",
              "    <button class=\"colab-df-convert\" onclick=\"convertToInteractive('df-9f1efdf4-2093-4e7b-9d18-92dcbcb6da04')\"\n",
              "            title=\"Convert this dataframe to an interactive table.\"\n",
              "            style=\"display:none;\">\n",
              "\n",
              "  <svg xmlns=\"http://www.w3.org/2000/svg\" height=\"24px\" viewBox=\"0 -960 960 960\">\n",
              "    <path d=\"M120-120v-720h720v720H120Zm60-500h600v-160H180v160Zm220 220h160v-160H400v160Zm0 220h160v-160H400v160ZM180-400h160v-160H180v160Zm440 0h160v-160H620v160ZM180-180h160v-160H180v160Zm440 0h160v-160H620v160Z\"/>\n",
              "  </svg>\n",
              "    </button>\n",
              "\n",
              "  <style>\n",
              "    .colab-df-container {\n",
              "      display:flex;\n",
              "      gap: 12px;\n",
              "    }\n",
              "\n",
              "    .colab-df-convert {\n",
              "      background-color: #E8F0FE;\n",
              "      border: none;\n",
              "      border-radius: 50%;\n",
              "      cursor: pointer;\n",
              "      display: none;\n",
              "      fill: #1967D2;\n",
              "      height: 32px;\n",
              "      padding: 0 0 0 0;\n",
              "      width: 32px;\n",
              "    }\n",
              "\n",
              "    .colab-df-convert:hover {\n",
              "      background-color: #E2EBFA;\n",
              "      box-shadow: 0px 1px 2px rgba(60, 64, 67, 0.3), 0px 1px 3px 1px rgba(60, 64, 67, 0.15);\n",
              "      fill: #174EA6;\n",
              "    }\n",
              "\n",
              "    .colab-df-buttons div {\n",
              "      margin-bottom: 4px;\n",
              "    }\n",
              "\n",
              "    [theme=dark] .colab-df-convert {\n",
              "      background-color: #3B4455;\n",
              "      fill: #D2E3FC;\n",
              "    }\n",
              "\n",
              "    [theme=dark] .colab-df-convert:hover {\n",
              "      background-color: #434B5C;\n",
              "      box-shadow: 0px 1px 3px 1px rgba(0, 0, 0, 0.15);\n",
              "      filter: drop-shadow(0px 1px 2px rgba(0, 0, 0, 0.3));\n",
              "      fill: #FFFFFF;\n",
              "    }\n",
              "  </style>\n",
              "\n",
              "    <script>\n",
              "      const buttonEl =\n",
              "        document.querySelector('#df-9f1efdf4-2093-4e7b-9d18-92dcbcb6da04 button.colab-df-convert');\n",
              "      buttonEl.style.display =\n",
              "        google.colab.kernel.accessAllowed ? 'block' : 'none';\n",
              "\n",
              "      async function convertToInteractive(key) {\n",
              "        const element = document.querySelector('#df-9f1efdf4-2093-4e7b-9d18-92dcbcb6da04');\n",
              "        const dataTable =\n",
              "          await google.colab.kernel.invokeFunction('convertToInteractive',\n",
              "                                                    [key], {});\n",
              "        if (!dataTable) return;\n",
              "\n",
              "        const docLinkHtml = 'Like what you see? Visit the ' +\n",
              "          '<a target=\"_blank\" href=https://colab.research.google.com/notebooks/data_table.ipynb>data table notebook</a>'\n",
              "          + ' to learn more about interactive tables.';\n",
              "        element.innerHTML = '';\n",
              "        dataTable['output_type'] = 'display_data';\n",
              "        await google.colab.output.renderOutput(dataTable, element);\n",
              "        const docLink = document.createElement('div');\n",
              "        docLink.innerHTML = docLinkHtml;\n",
              "        element.appendChild(docLink);\n",
              "      }\n",
              "    </script>\n",
              "  </div>\n",
              "\n",
              "\n",
              "<div id=\"df-a49f138d-028f-4ade-8a02-252969bc8f54\">\n",
              "  <button class=\"colab-df-quickchart\" onclick=\"quickchart('df-a49f138d-028f-4ade-8a02-252969bc8f54')\"\n",
              "            title=\"Suggest charts\"\n",
              "            style=\"display:none;\">\n",
              "\n",
              "<svg xmlns=\"http://www.w3.org/2000/svg\" height=\"24px\"viewBox=\"0 0 24 24\"\n",
              "     width=\"24px\">\n",
              "    <g>\n",
              "        <path d=\"M19 3H5c-1.1 0-2 .9-2 2v14c0 1.1.9 2 2 2h14c1.1 0 2-.9 2-2V5c0-1.1-.9-2-2-2zM9 17H7v-7h2v7zm4 0h-2V7h2v10zm4 0h-2v-4h2v4z\"/>\n",
              "    </g>\n",
              "</svg>\n",
              "  </button>\n",
              "\n",
              "<style>\n",
              "  .colab-df-quickchart {\n",
              "      --bg-color: #E8F0FE;\n",
              "      --fill-color: #1967D2;\n",
              "      --hover-bg-color: #E2EBFA;\n",
              "      --hover-fill-color: #174EA6;\n",
              "      --disabled-fill-color: #AAA;\n",
              "      --disabled-bg-color: #DDD;\n",
              "  }\n",
              "\n",
              "  [theme=dark] .colab-df-quickchart {\n",
              "      --bg-color: #3B4455;\n",
              "      --fill-color: #D2E3FC;\n",
              "      --hover-bg-color: #434B5C;\n",
              "      --hover-fill-color: #FFFFFF;\n",
              "      --disabled-bg-color: #3B4455;\n",
              "      --disabled-fill-color: #666;\n",
              "  }\n",
              "\n",
              "  .colab-df-quickchart {\n",
              "    background-color: var(--bg-color);\n",
              "    border: none;\n",
              "    border-radius: 50%;\n",
              "    cursor: pointer;\n",
              "    display: none;\n",
              "    fill: var(--fill-color);\n",
              "    height: 32px;\n",
              "    padding: 0;\n",
              "    width: 32px;\n",
              "  }\n",
              "\n",
              "  .colab-df-quickchart:hover {\n",
              "    background-color: var(--hover-bg-color);\n",
              "    box-shadow: 0 1px 2px rgba(60, 64, 67, 0.3), 0 1px 3px 1px rgba(60, 64, 67, 0.15);\n",
              "    fill: var(--button-hover-fill-color);\n",
              "  }\n",
              "\n",
              "  .colab-df-quickchart-complete:disabled,\n",
              "  .colab-df-quickchart-complete:disabled:hover {\n",
              "    background-color: var(--disabled-bg-color);\n",
              "    fill: var(--disabled-fill-color);\n",
              "    box-shadow: none;\n",
              "  }\n",
              "\n",
              "  .colab-df-spinner {\n",
              "    border: 2px solid var(--fill-color);\n",
              "    border-color: transparent;\n",
              "    border-bottom-color: var(--fill-color);\n",
              "    animation:\n",
              "      spin 1s steps(1) infinite;\n",
              "  }\n",
              "\n",
              "  @keyframes spin {\n",
              "    0% {\n",
              "      border-color: transparent;\n",
              "      border-bottom-color: var(--fill-color);\n",
              "      border-left-color: var(--fill-color);\n",
              "    }\n",
              "    20% {\n",
              "      border-color: transparent;\n",
              "      border-left-color: var(--fill-color);\n",
              "      border-top-color: var(--fill-color);\n",
              "    }\n",
              "    30% {\n",
              "      border-color: transparent;\n",
              "      border-left-color: var(--fill-color);\n",
              "      border-top-color: var(--fill-color);\n",
              "      border-right-color: var(--fill-color);\n",
              "    }\n",
              "    40% {\n",
              "      border-color: transparent;\n",
              "      border-right-color: var(--fill-color);\n",
              "      border-top-color: var(--fill-color);\n",
              "    }\n",
              "    60% {\n",
              "      border-color: transparent;\n",
              "      border-right-color: var(--fill-color);\n",
              "    }\n",
              "    80% {\n",
              "      border-color: transparent;\n",
              "      border-right-color: var(--fill-color);\n",
              "      border-bottom-color: var(--fill-color);\n",
              "    }\n",
              "    90% {\n",
              "      border-color: transparent;\n",
              "      border-bottom-color: var(--fill-color);\n",
              "    }\n",
              "  }\n",
              "</style>\n",
              "\n",
              "  <script>\n",
              "    async function quickchart(key) {\n",
              "      const quickchartButtonEl =\n",
              "        document.querySelector('#' + key + ' button');\n",
              "      quickchartButtonEl.disabled = true;  // To prevent multiple clicks.\n",
              "      quickchartButtonEl.classList.add('colab-df-spinner');\n",
              "      try {\n",
              "        const charts = await google.colab.kernel.invokeFunction(\n",
              "            'suggestCharts', [key], {});\n",
              "      } catch (error) {\n",
              "        console.error('Error during call to suggestCharts:', error);\n",
              "      }\n",
              "      quickchartButtonEl.classList.remove('colab-df-spinner');\n",
              "      quickchartButtonEl.classList.add('colab-df-quickchart-complete');\n",
              "    }\n",
              "    (() => {\n",
              "      let quickchartButtonEl =\n",
              "        document.querySelector('#df-a49f138d-028f-4ade-8a02-252969bc8f54 button');\n",
              "      quickchartButtonEl.style.display =\n",
              "        google.colab.kernel.accessAllowed ? 'block' : 'none';\n",
              "    })();\n",
              "  </script>\n",
              "</div>\n",
              "\n",
              "    </div>\n",
              "  </div>\n"
            ],
            "application/vnd.google.colaboratory.intrinsic+json": {
              "type": "dataframe",
              "variable_name": "data"
            }
          },
          "metadata": {},
          "execution_count": 4
        }
      ]
    },
    {
      "cell_type": "code",
      "source": [
        "print(data.columns)"
      ],
      "metadata": {
        "colab": {
          "base_uri": "https://localhost:8080/"
        },
        "id": "0f22Ej1XRiLB",
        "outputId": "c2073577-c808-451f-ce13-75cb2cf34186"
      },
      "execution_count": 6,
      "outputs": [
        {
          "output_type": "stream",
          "name": "stdout",
          "text": [
            "Index(['_id', 'appointmentId', 'patientDetails___id', 'patientDetails__phrId',\n",
            "       'patientDetails__firstName', 'patientDetails__lastName',\n",
            "       'patientDetails__emailId', 'patientDetails__gender',\n",
            "       'patientDetails__alternateContact', 'patientDetails__birthDate',\n",
            "       'patientDetails__chat___id', 'patientDetails__chat__channelId',\n",
            "       'patientDetails__customId', 'phoneNumber',\n",
            "       'consultationData__chiefComplaints__symptomSnomedId',\n",
            "       'consultationData__chiefComplaints__symptomSnomedName',\n",
            "       'consultationData__chiefComplaints__mediusId',\n",
            "       'consultationData__updatedAt', 'consultationData__createdAt',\n",
            "       'consultationData__doctorNotes', 'consultationData__isBalicAppointment',\n",
            "       'consultationData__isQuickPrescription', 'consultationData___id',\n",
            "       'consultationData__languageCode',\n",
            "       'consultationData__medicines__medicineId',\n",
            "       'consultationData__medicines__medicineName',\n",
            "       'consultationData__medicines__medicineNameStrengthType',\n",
            "       'consultationData__medicines__frequency',\n",
            "       'consultationData__medicines__duration',\n",
            "       'consultationData__medicines__durationIn',\n",
            "       'consultationData__medicines__instruction',\n",
            "       'consultationData__medicines__isActive',\n",
            "       'consultationData__sharePrescription'],\n",
            "      dtype='object')\n"
          ]
        }
      ]
    },
    {
      "cell_type": "code",
      "source": [
        "# Calculate percentage of missing values for firstName\n",
        "missing_firstName = data['patientDetails__firstName'].isnull().sum() + (data['patientDetails__firstName'] == '').sum()\n",
        "percentage_missing_firstName = round((missing_firstName / len(data)) * 100, 2)\n",
        "\n",
        "# Calculate percentage of missing values for lastName\n",
        "missing_lastName = data['patientDetails__lastName'].isnull().sum() + (data['patientDetails__lastName'] == '').sum()\n",
        "percentage_missing_lastName = round((missing_lastName / len(data)) * 100, 2)\n",
        "\n",
        "# Calculate percentage of missing values for DOB\n",
        "missing_DOB = data['patientDetails__birthDate'].isnull().sum() + (data['patientDetails__birthDate'] == '').sum()\n",
        "percentage_missing_DOB = round((missing_DOB / len(data)) * 100, 2)\n",
        "\n",
        "# Print the results in the desired format\n",
        "print(f\"{percentage_missing_firstName},{percentage_missing_lastName},{percentage_missing_DOB}\")"
      ],
      "metadata": {
        "colab": {
          "base_uri": "https://localhost:8080/"
        },
        "id": "wu98GJ7cPcFk",
        "outputId": "17f452d2-d32f-4b4b-bee7-f6984f61be91"
      },
      "execution_count": 8,
      "outputs": [
        {
          "output_type": "stream",
          "name": "stdout",
          "text": [
            "59.21,88.16,72.37\n"
          ]
        }
      ]
    },
    {
      "cell_type": "code",
      "source": [],
      "metadata": {
        "id": "f9Uv2_yDTt4X"
      },
      "execution_count": 14,
      "outputs": []
    },
    {
      "cell_type": "code",
      "source": [
        "# Impute missing values in 'patientDetails__gender' with mode\n",
        "mode_gender = data['patientDetails__gender'].mode()[0]\n",
        "data['patientDetails__gender'] = data['patientDetails__gender'].fillna(mode_gender)\n",
        "\n",
        "# Calculate percentage of female gender\n",
        "female_count = (data['patientDetails__gender'] == 'Female').sum()\n",
        "percentage_female = round((female_count / len(data)) * 100, 2)\n",
        "\n",
        "# Print the result\n",
        "print(percentage_female)"
      ],
      "metadata": {
        "colab": {
          "base_uri": "https://localhost:8080/"
        },
        "id": "Ri659m4qROi6",
        "outputId": "8bcb1333-46d5-4e70-ea59-0f82bc45804f"
      },
      "execution_count": 9,
      "outputs": [
        {
          "output_type": "stream",
          "name": "stdout",
          "text": [
            "0.0\n"
          ]
        }
      ]
    },
    {
      "cell_type": "code",
      "source": [
        "# Convert 'patientDetails__birthDate' to datetime and remove timezone\n",
        "data['patientDetails__birthDate'] = pd.to_datetime(data['patientDetails__birthDate'], errors='coerce').dt.tz_localize(None)"
      ],
      "metadata": {
        "id": "bWHRn7jeT4P9"
      },
      "execution_count": 16,
      "outputs": []
    },
    {
      "cell_type": "code",
      "source": [
        "# Calculate age in days and then convert to years\n",
        "data['age'] = (now - data['patientDetails__birthDate']).dt.days / 365.25"
      ],
      "metadata": {
        "id": "iSLlEMgPTOSQ"
      },
      "execution_count": 20,
      "outputs": []
    },
    {
      "cell_type": "code",
      "source": [
        "# Define a function to categorize ages\n",
        "def categorize_age(age):\n",
        "    if age <= 12:\n",
        "        return 'Child'\n",
        "    elif 13 <= age <= 19:\n",
        "        return 'Teen'\n",
        "    elif 20 <= age <= 59:\n",
        "        return 'Adult'\n",
        "    else:\n",
        "        return 'Senior'\n",
        "\n",
        "# Apply the function to create the 'ageGroup' column\n",
        "data['ageGroup'] = data['age'].apply(categorize_age)"
      ],
      "metadata": {
        "id": "nhWIS3ioS7oM"
      },
      "execution_count": 21,
      "outputs": []
    },
    {
      "cell_type": "code",
      "source": [
        "# Count the number of Adults\n",
        "adult_count = (data['ageGroup'] == 'Adult').sum()\n",
        "\n",
        "# Print the result\n",
        "print(adult_count)"
      ],
      "metadata": {
        "colab": {
          "base_uri": "https://localhost:8080/"
        },
        "id": "hbnLHc6tSnEg",
        "outputId": "b287b63d-7646-4610-9a86-3db253871c56"
      },
      "execution_count": 22,
      "outputs": [
        {
          "output_type": "stream",
          "name": "stdout",
          "text": [
            "21\n"
          ]
        }
      ]
    },
    {
      "cell_type": "code",
      "source": [
        "print(data.columns)"
      ],
      "metadata": {
        "colab": {
          "base_uri": "https://localhost:8080/"
        },
        "id": "xAIngi5JV-aW",
        "outputId": "31414613-772f-4fb6-bec0-186b1c8f3eee"
      },
      "execution_count": 25,
      "outputs": [
        {
          "output_type": "stream",
          "name": "stdout",
          "text": [
            "Index(['_id', 'appointmentId', 'patientDetails___id', 'patientDetails__phrId',\n",
            "       'patientDetails__firstName', 'patientDetails__lastName',\n",
            "       'patientDetails__emailId', 'patientDetails__gender',\n",
            "       'patientDetails__alternateContact', 'patientDetails__birthDate',\n",
            "       'patientDetails__chat___id', 'patientDetails__chat__channelId',\n",
            "       'patientDetails__customId', 'phoneNumber',\n",
            "       'consultationData__chiefComplaints__symptomSnomedId',\n",
            "       'consultationData__chiefComplaints__symptomSnomedName',\n",
            "       'consultationData__chiefComplaints__mediusId',\n",
            "       'consultationData__updatedAt', 'consultationData__createdAt',\n",
            "       'consultationData__doctorNotes', 'consultationData__isBalicAppointment',\n",
            "       'consultationData__isQuickPrescription', 'consultationData___id',\n",
            "       'consultationData__languageCode',\n",
            "       'consultationData__medicines__medicineId',\n",
            "       'consultationData__medicines__medicineName',\n",
            "       'consultationData__medicines__medicineNameStrengthType',\n",
            "       'consultationData__medicines__frequency',\n",
            "       'consultationData__medicines__duration',\n",
            "       'consultationData__medicines__durationIn',\n",
            "       'consultationData__medicines__instruction',\n",
            "       'consultationData__medicines__isActive',\n",
            "       'consultationData__sharePrescription', 'age', 'ageGroup'],\n",
            "      dtype='object')\n"
          ]
        }
      ]
    },
    {
      "cell_type": "code",
      "source": [
        "from collections import Counter\n",
        "\n",
        "# Extract medicine names (adjust based on your data structure)\n",
        "medicine_names = data['consultationData__medicines__medicineName'].tolist()\n",
        "\n",
        "# Count occurrences\n",
        "medicine_counts = Counter(medicine_names)\n",
        "\n",
        "# Find the 3rd most frequent\n",
        "third_most_common = medicine_counts.most_common(3)[2][0]\n",
        "\n",
        "print(third_most_common)"
      ],
      "metadata": {
        "colab": {
          "base_uri": "https://localhost:8080/"
        },
        "id": "QNLrAhjRWZ_7",
        "outputId": "935e2910-6cec-4947-d6f0-28f1b656fc13"
      },
      "execution_count": 32,
      "outputs": [
        {
          "output_type": "stream",
          "name": "stdout",
          "text": [
            "C\n"
          ]
        }
      ]
    },
    {
      "cell_type": "code",
      "source": [
        "data['consultationData__medicines__isActive'] = data['consultationData__medicines__isActive'].astype(bool)"
      ],
      "metadata": {
        "id": "-dWo3uDrbCWy"
      },
      "execution_count": 34,
      "outputs": []
    },
    {
      "cell_type": "code",
      "source": [
        "\n",
        "# Count active and inactive medicines\n",
        "active_count = data['consultationData__medicines__isActive'].sum()\n",
        "inactive_count = (~data['consultationData__medicines__isActive']).sum()\n",
        "total_count = active_count + inactive_count\n",
        "\n",
        "# Calculate percentages\n",
        "active_percentage = round((active_count / total_count) * 100, 2)\n",
        "inactive_percentage = round((inactive_count / total_count) * 100, 2)\n",
        "\n",
        "print(f\"Active: {active_percentage}%\")\n",
        "print(f\"Inactive: {inactive_percentage}%\")"
      ],
      "metadata": {
        "colab": {
          "base_uri": "https://localhost:8080/"
        },
        "id": "Onf19fRzXBN8",
        "outputId": "66ce3287-4537-4938-da7d-15924c0c3dc1"
      },
      "execution_count": 35,
      "outputs": [
        {
          "output_type": "stream",
          "name": "stdout",
          "text": [
            "Active: 73.68%\n",
            "Inactive: 26.32%\n"
          ]
        }
      ]
    },
    {
      "cell_type": "code",
      "source": [
        "def is_valid_indian_number(phone_number):\n",
        "  \"\"\"\n",
        "  Checks if a phone number is a valid Indian phone number.\n",
        "\n",
        "  Args:\n",
        "    phone_number: The phone number to check.\n",
        "\n",
        "  Returns:\n",
        "    True if the phone number is valid, False otherwise.\n",
        "  \"\"\"\n",
        "  # Check if the phone number is 10 digits long and starts with 6, 7, 8 or 9\n",
        "  if len(phone_number) == 10 and phone_number[0] in ['6', '7', '8', '9']:\n",
        "    return True\n",
        "  else:\n",
        "    return False\n",
        "\n",
        "# Apply the function to create the 'isValidMobile' column\n",
        "data['isValidMobile'] = data['phoneNumber'].apply(is_valid_indian_number)"
      ],
      "metadata": {
        "colab": {
          "base_uri": "https://localhost:8080/",
          "height": 321
        },
        "id": "obn4RW1Ba2aC",
        "outputId": "081b2556-3fb4-4f3c-ae85-ef89ec6553b4"
      },
      "execution_count": 36,
      "outputs": [
        {
          "output_type": "error",
          "ename": "TypeError",
          "evalue": "object of type 'float' has no len()",
          "traceback": [
            "\u001b[0;31m---------------------------------------------------------------------------\u001b[0m",
            "\u001b[0;31mTypeError\u001b[0m                                 Traceback (most recent call last)",
            "\u001b[0;32m<ipython-input-36-69338983c7ce>\u001b[0m in \u001b[0;36m<cell line: 18>\u001b[0;34m()\u001b[0m\n\u001b[1;32m     16\u001b[0m \u001b[0;34m\u001b[0m\u001b[0m\n\u001b[1;32m     17\u001b[0m \u001b[0;31m# Apply the function to create the 'isValidMobile' column\u001b[0m\u001b[0;34m\u001b[0m\u001b[0;34m\u001b[0m\u001b[0m\n\u001b[0;32m---> 18\u001b[0;31m \u001b[0mdata\u001b[0m\u001b[0;34m[\u001b[0m\u001b[0;34m'isValidMobile'\u001b[0m\u001b[0;34m]\u001b[0m \u001b[0;34m=\u001b[0m \u001b[0mdata\u001b[0m\u001b[0;34m[\u001b[0m\u001b[0;34m'phoneNumber'\u001b[0m\u001b[0;34m]\u001b[0m\u001b[0;34m.\u001b[0m\u001b[0mapply\u001b[0m\u001b[0;34m(\u001b[0m\u001b[0mis_valid_indian_number\u001b[0m\u001b[0;34m)\u001b[0m\u001b[0;34m\u001b[0m\u001b[0;34m\u001b[0m\u001b[0m\n\u001b[0m",
            "\u001b[0;32m/usr/local/lib/python3.10/dist-packages/pandas/core/series.py\u001b[0m in \u001b[0;36mapply\u001b[0;34m(self, func, convert_dtype, args, **kwargs)\u001b[0m\n\u001b[1;32m   4628\u001b[0m         \u001b[0mdtype\u001b[0m\u001b[0;34m:\u001b[0m \u001b[0mfloat64\u001b[0m\u001b[0;34m\u001b[0m\u001b[0;34m\u001b[0m\u001b[0m\n\u001b[1;32m   4629\u001b[0m         \"\"\"\n\u001b[0;32m-> 4630\u001b[0;31m         \u001b[0;32mreturn\u001b[0m \u001b[0mSeriesApply\u001b[0m\u001b[0;34m(\u001b[0m\u001b[0mself\u001b[0m\u001b[0;34m,\u001b[0m \u001b[0mfunc\u001b[0m\u001b[0;34m,\u001b[0m \u001b[0mconvert_dtype\u001b[0m\u001b[0;34m,\u001b[0m \u001b[0margs\u001b[0m\u001b[0;34m,\u001b[0m \u001b[0mkwargs\u001b[0m\u001b[0;34m)\u001b[0m\u001b[0;34m.\u001b[0m\u001b[0mapply\u001b[0m\u001b[0;34m(\u001b[0m\u001b[0;34m)\u001b[0m\u001b[0;34m\u001b[0m\u001b[0;34m\u001b[0m\u001b[0m\n\u001b[0m\u001b[1;32m   4631\u001b[0m \u001b[0;34m\u001b[0m\u001b[0m\n\u001b[1;32m   4632\u001b[0m     def _reduce(\n",
            "\u001b[0;32m/usr/local/lib/python3.10/dist-packages/pandas/core/apply.py\u001b[0m in \u001b[0;36mapply\u001b[0;34m(self)\u001b[0m\n\u001b[1;32m   1023\u001b[0m \u001b[0;34m\u001b[0m\u001b[0m\n\u001b[1;32m   1024\u001b[0m         \u001b[0;31m# self.f is Callable\u001b[0m\u001b[0;34m\u001b[0m\u001b[0;34m\u001b[0m\u001b[0m\n\u001b[0;32m-> 1025\u001b[0;31m         \u001b[0;32mreturn\u001b[0m \u001b[0mself\u001b[0m\u001b[0;34m.\u001b[0m\u001b[0mapply_standard\u001b[0m\u001b[0;34m(\u001b[0m\u001b[0;34m)\u001b[0m\u001b[0;34m\u001b[0m\u001b[0;34m\u001b[0m\u001b[0m\n\u001b[0m\u001b[1;32m   1026\u001b[0m \u001b[0;34m\u001b[0m\u001b[0m\n\u001b[1;32m   1027\u001b[0m     \u001b[0;32mdef\u001b[0m \u001b[0magg\u001b[0m\u001b[0;34m(\u001b[0m\u001b[0mself\u001b[0m\u001b[0;34m)\u001b[0m\u001b[0;34m:\u001b[0m\u001b[0;34m\u001b[0m\u001b[0;34m\u001b[0m\u001b[0m\n",
            "\u001b[0;32m/usr/local/lib/python3.10/dist-packages/pandas/core/apply.py\u001b[0m in \u001b[0;36mapply_standard\u001b[0;34m(self)\u001b[0m\n\u001b[1;32m   1074\u001b[0m             \u001b[0;32melse\u001b[0m\u001b[0;34m:\u001b[0m\u001b[0;34m\u001b[0m\u001b[0;34m\u001b[0m\u001b[0m\n\u001b[1;32m   1075\u001b[0m                 \u001b[0mvalues\u001b[0m \u001b[0;34m=\u001b[0m \u001b[0mobj\u001b[0m\u001b[0;34m.\u001b[0m\u001b[0mastype\u001b[0m\u001b[0;34m(\u001b[0m\u001b[0mobject\u001b[0m\u001b[0;34m)\u001b[0m\u001b[0;34m.\u001b[0m\u001b[0m_values\u001b[0m\u001b[0;34m\u001b[0m\u001b[0;34m\u001b[0m\u001b[0m\n\u001b[0;32m-> 1076\u001b[0;31m                 mapped = lib.map_infer(\n\u001b[0m\u001b[1;32m   1077\u001b[0m                     \u001b[0mvalues\u001b[0m\u001b[0;34m,\u001b[0m\u001b[0;34m\u001b[0m\u001b[0;34m\u001b[0m\u001b[0m\n\u001b[1;32m   1078\u001b[0m                     \u001b[0mf\u001b[0m\u001b[0;34m,\u001b[0m\u001b[0;34m\u001b[0m\u001b[0;34m\u001b[0m\u001b[0m\n",
            "\u001b[0;32m/usr/local/lib/python3.10/dist-packages/pandas/_libs/lib.pyx\u001b[0m in \u001b[0;36mpandas._libs.lib.map_infer\u001b[0;34m()\u001b[0m\n",
            "\u001b[0;32m<ipython-input-36-69338983c7ce>\u001b[0m in \u001b[0;36mis_valid_indian_number\u001b[0;34m(phone_number)\u001b[0m\n\u001b[1;32m     10\u001b[0m   \"\"\"\n\u001b[1;32m     11\u001b[0m   \u001b[0;31m# Check if the phone number is 10 digits long and starts with 6, 7, 8 or 9\u001b[0m\u001b[0;34m\u001b[0m\u001b[0;34m\u001b[0m\u001b[0m\n\u001b[0;32m---> 12\u001b[0;31m   \u001b[0;32mif\u001b[0m \u001b[0mlen\u001b[0m\u001b[0;34m(\u001b[0m\u001b[0mphone_number\u001b[0m\u001b[0;34m)\u001b[0m \u001b[0;34m==\u001b[0m \u001b[0;36m10\u001b[0m \u001b[0;32mand\u001b[0m \u001b[0mphone_number\u001b[0m\u001b[0;34m[\u001b[0m\u001b[0;36m0\u001b[0m\u001b[0;34m]\u001b[0m \u001b[0;32min\u001b[0m \u001b[0;34m[\u001b[0m\u001b[0;34m'6'\u001b[0m\u001b[0;34m,\u001b[0m \u001b[0;34m'7'\u001b[0m\u001b[0;34m,\u001b[0m \u001b[0;34m'8'\u001b[0m\u001b[0;34m,\u001b[0m \u001b[0;34m'9'\u001b[0m\u001b[0;34m]\u001b[0m\u001b[0;34m:\u001b[0m\u001b[0;34m\u001b[0m\u001b[0;34m\u001b[0m\u001b[0m\n\u001b[0m\u001b[1;32m     13\u001b[0m     \u001b[0;32mreturn\u001b[0m \u001b[0;32mTrue\u001b[0m\u001b[0;34m\u001b[0m\u001b[0;34m\u001b[0m\u001b[0m\n\u001b[1;32m     14\u001b[0m   \u001b[0;32melse\u001b[0m\u001b[0;34m:\u001b[0m\u001b[0;34m\u001b[0m\u001b[0;34m\u001b[0m\u001b[0m\n",
            "\u001b[0;31mTypeError\u001b[0m: object of type 'float' has no len()"
          ]
        }
      ]
    },
    {
      "cell_type": "code",
      "source": [],
      "metadata": {
        "id": "OjYj6IQac6O1"
      },
      "execution_count": null,
      "outputs": []
    }
  ]
}